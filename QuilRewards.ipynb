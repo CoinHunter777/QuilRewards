{
  "nbformat": 4,
  "nbformat_minor": 0,
  "metadata": {
    "colab": {
      "provenance": [],
      "authorship_tag": "ABX9TyP1tAYE2dJbLTeJa0OmflZi",
      "include_colab_link": true
    },
    "kernelspec": {
      "name": "python3",
      "display_name": "Python 3"
    },
    "language_info": {
      "name": "python"
    }
  },
  "cells": [
    {
      "cell_type": "markdown",
      "metadata": {
        "id": "view-in-github",
        "colab_type": "text"
      },
      "source": [
        "<a href=\"https://colab.research.google.com/github/CoinHunter777/Quilrewards/blob/main/QuilRewards.ipynb\" target=\"_parent\"><img src=\"https://colab.research.google.com/assets/colab-badge.svg\" alt=\"Open In Colab\"/></a>"
      ]
    },
    {
      "cell_type": "code",
      "execution_count": null,
      "metadata": {
        "colab": {
          "base_uri": "https://localhost:8080/"
        },
        "id": "CQ_FO-E_2zbS",
        "outputId": "4cd334b9-09f5-4175-b550-4536b1c877ae"
      },
      "outputs": [
        {
          "output_type": "stream",
          "name": "stdout",
          "text": [
            "Collecting selenium\n",
            "  Downloading selenium-4.20.0-py3-none-any.whl (9.5 MB)\n",
            "\u001b[2K     \u001b[90m━━━━━━━━━━━━━━━━━━━━━━━━━━━━━━━━━━━━━━━━\u001b[0m \u001b[32m9.5/9.5 MB\u001b[0m \u001b[31m23.9 MB/s\u001b[0m eta \u001b[36m0:00:00\u001b[0m\n",
            "\u001b[?25hRequirement already satisfied: urllib3[socks]<3,>=1.26 in /usr/local/lib/python3.10/dist-packages (from selenium) (2.0.7)\n",
            "Collecting trio~=0.17 (from selenium)\n",
            "  Downloading trio-0.25.0-py3-none-any.whl (467 kB)\n",
            "\u001b[2K     \u001b[90m━━━━━━━━━━━━━━━━━━━━━━━━━━━━━━━━━━━━━━━━\u001b[0m \u001b[32m467.2/467.2 kB\u001b[0m \u001b[31m31.4 MB/s\u001b[0m eta \u001b[36m0:00:00\u001b[0m\n",
            "\u001b[?25hCollecting trio-websocket~=0.9 (from selenium)\n",
            "  Downloading trio_websocket-0.11.1-py3-none-any.whl (17 kB)\n",
            "Requirement already satisfied: certifi>=2021.10.8 in /usr/local/lib/python3.10/dist-packages (from selenium) (2024.2.2)\n",
            "Requirement already satisfied: typing_extensions>=4.9.0 in /usr/local/lib/python3.10/dist-packages (from selenium) (4.11.0)\n",
            "Requirement already satisfied: attrs>=23.2.0 in /usr/local/lib/python3.10/dist-packages (from trio~=0.17->selenium) (23.2.0)\n",
            "Requirement already satisfied: sortedcontainers in /usr/local/lib/python3.10/dist-packages (from trio~=0.17->selenium) (2.4.0)\n",
            "Requirement already satisfied: idna in /usr/local/lib/python3.10/dist-packages (from trio~=0.17->selenium) (3.7)\n",
            "Collecting outcome (from trio~=0.17->selenium)\n",
            "  Downloading outcome-1.3.0.post0-py2.py3-none-any.whl (10 kB)\n",
            "Requirement already satisfied: sniffio>=1.3.0 in /usr/local/lib/python3.10/dist-packages (from trio~=0.17->selenium) (1.3.1)\n",
            "Requirement already satisfied: exceptiongroup in /usr/local/lib/python3.10/dist-packages (from trio~=0.17->selenium) (1.2.1)\n",
            "Collecting wsproto>=0.14 (from trio-websocket~=0.9->selenium)\n",
            "  Downloading wsproto-1.2.0-py3-none-any.whl (24 kB)\n",
            "Requirement already satisfied: pysocks!=1.5.7,<2.0,>=1.5.6 in /usr/local/lib/python3.10/dist-packages (from urllib3[socks]<3,>=1.26->selenium) (1.7.1)\n",
            "Collecting h11<1,>=0.9.0 (from wsproto>=0.14->trio-websocket~=0.9->selenium)\n",
            "  Downloading h11-0.14.0-py3-none-any.whl (58 kB)\n",
            "\u001b[2K     \u001b[90m━━━━━━━━━━━━━━━━━━━━━━━━━━━━━━━━━━━━━━━━\u001b[0m \u001b[32m58.3/58.3 kB\u001b[0m \u001b[31m5.5 MB/s\u001b[0m eta \u001b[36m0:00:00\u001b[0m\n",
            "\u001b[?25hInstalling collected packages: outcome, h11, wsproto, trio, trio-websocket, selenium\n",
            "Successfully installed h11-0.14.0 outcome-1.3.0.post0 selenium-4.20.0 trio-0.25.0 trio-websocket-0.11.1 wsproto-1.2.0\n",
            "---------------------------------------------------------------------------------\n",
            "peer id: QmNbFyU1257ZeCpjLBr38Ws1oJfBvuNAR2fYEJGF6x47sZ\n",
            "Rewards (Last Updated: 2024-05-12 10:00PM PDT)\n",
            "Existing: 0\n",
            "Reward: 3417.698318\n",
            "Total: 3417.698318\n",
            "presence:\n",
            "April\n",
            "May\n",
            "---------------------------------------------------------------------------------\n"
          ]
        }
      ],
      "source": [
        "!pip install selenium\n",
        "from selenium import webdriver\n",
        "import time\n",
        "from bs4 import BeautifulSoup\n",
        "import re\n",
        "import sys\n",
        "import pprint\n",
        "\n",
        "firefox_options = webdriver.FirefoxOptions()\n",
        "firefox_options.add_argument('--headless')\n",
        "ListpeerId = [\"QmNbFyU1257ZeCpjLBr38Ws1oJfBvuNAR2fYEJGF6x47sZ\",\"QmajRxn5KXHptZPzUhGpx7i66uPEvaiKjksXTscPhH5AJk\"]\n",
        "\n",
        "driver = webdriver.Firefox(options=firefox_options)\n",
        "driver.get('https://quilibrium.com/rewards/')\n",
        "\n",
        "\n",
        "#boucle pour chaque peer\n",
        "for peer in ListpeerId:\n",
        "    print(\"---------------------------------------------------------------------------------\")\n",
        "    # Find the input element with the placeholder text\n",
        "    input_element = driver.find_element(\"xpath\", \"//input[@placeholder='Search Reward Address']\")\n",
        "    # Interact with the input element (for example, typing text)\n",
        "    input_element.send_keys(peer)\n",
        "    time.sleep(5)\n",
        "\n",
        "    element = driver.find_element(\"tag name\", \"code\")\n",
        "    element.click()\n",
        "\n",
        "    # Récupérer le contenu HTML après que la page ait été entièrement chargée\n",
        "    html_content = driver.page_source\n",
        "\n",
        "\n",
        "    # Analyser le contenu HTML avec BeautifulSoup\n",
        "    soup = BeautifulSoup(html_content, 'html.parser')\n",
        "    # print(soup.prettify())\n",
        "    #peer id\n",
        "    print(\"peer id: \" + peer)\n",
        "    # afficher last update\n",
        "    last_update = soup.find('h2')\n",
        "    print(last_update.text)\n",
        "\n",
        "    # existing + reward + total\n",
        "    resultat = soup.find(\"div\", class_=\"center\").findAll(\"div\")\n",
        "\n",
        "    for i in range(3):\n",
        "        print(resultat[i].text)\n",
        "\n",
        "    presences = soup.findAll(\"div\", class_=re.compile(r\"px-4.*bg-slate-100\"))\n",
        "    print(\"presence:\")\n",
        "    for presence in presences:\n",
        "        print(presence.text)\n",
        "\n",
        "    driver.refresh()\n",
        "\n",
        "# Fermer le navigateur contrôlé par Selenium\n",
        "driver.quit()\n"
      ]
    }
  ]
}